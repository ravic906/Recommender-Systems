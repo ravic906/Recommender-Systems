{
 "cells": [
  {
   "cell_type": "code",
   "execution_count": 1,
   "id": "ec2a455a",
   "metadata": {},
   "outputs": [],
   "source": [
    "import pandas as pd\n",
    "from nltk.corpus import stopwords\n",
    "from nltk.tokenize import word_tokenize \n",
    "from nltk.stem.porter import PorterStemmer\n",
    "import pickle\n",
    "import re"
   ]
  },
  {
   "cell_type": "code",
   "execution_count": 2,
   "id": "d1e3f2b0",
   "metadata": {},
   "outputs": [],
   "source": [
    "stop_words = stopwords.words('english')\n",
    "stemmer = PorterStemmer()"
   ]
  },
  {
   "cell_type": "markdown",
   "id": "eaec0e61",
   "metadata": {},
   "source": [
    "###  Loading Text processing steps"
   ]
  },
  {
   "cell_type": "code",
   "execution_count": 3,
   "id": "daa762e1",
   "metadata": {},
   "outputs": [],
   "source": [
    "def clean_data(text):\n",
    "    # Make the text lowercase\n",
    "    text = text.lower()\n",
    "    \n",
    "    # Remove text in square brackets\n",
    "    text = re.sub(r'\\[.*?\\]','',text)\n",
    "    \n",
    "    # Remove punctuation\n",
    "    text = re.sub(r'[^A-Za-z]+',' ',text)\n",
    "    \n",
    "    # Remove words containing numbers    \n",
    "    text = re.sub(\"\\S*\\d\\S*\", \"\", text).strip()\n",
    "    \n",
    "    text_formatted = ' '.join([words for words in text.split() if words not in stop_words])\n",
    "    \n",
    "    text_formatted_final = ' '.join([stemmer.stem(words) for words in word_tokenize(text_formatted)])\n",
    "    \n",
    "    return text_formatted_final"
   ]
  },
  {
   "cell_type": "markdown",
   "id": "6fed6cb6",
   "metadata": {},
   "source": [
    "### Loading Vectorizer"
   ]
  },
  {
   "cell_type": "code",
   "execution_count": 4,
   "id": "36b26c83",
   "metadata": {},
   "outputs": [],
   "source": [
    "vector = pickle.load(open('Models/vector.pkl','rb'))"
   ]
  },
  {
   "cell_type": "markdown",
   "id": "cd83b476",
   "metadata": {},
   "source": [
    "### Loading Random forest"
   ]
  },
  {
   "cell_type": "code",
   "execution_count": 5,
   "id": "ddac455c",
   "metadata": {},
   "outputs": [],
   "source": [
    "rf = pickle.load(open('Models/rf.pkl','rb'))"
   ]
  },
  {
   "cell_type": "markdown",
   "id": "cbc33f1d",
   "metadata": {},
   "source": [
    "### Loading cleaned data and Recommendation model below"
   ]
  },
  {
   "cell_type": "code",
   "execution_count": 6,
   "id": "a9e869e4",
   "metadata": {},
   "outputs": [],
   "source": [
    "data_fil = pickle.load(open('Models/cleaned_data.pkl','rb'))"
   ]
  },
  {
   "cell_type": "code",
   "execution_count": 7,
   "id": "a1a0ca1b",
   "metadata": {},
   "outputs": [],
   "source": [
    "user_final_rating = pickle.load(open('Models/user_final_rating.pkl','rb'))"
   ]
  },
  {
   "cell_type": "markdown",
   "id": "ab09f2c7",
   "metadata": {},
   "source": [
    "### Creating get recommendations by user function to use in Flask app"
   ]
  },
  {
   "cell_type": "code",
   "execution_count": 8,
   "id": "d1c3eca4",
   "metadata": {},
   "outputs": [],
   "source": [
    "def getrecommendationsbyuser(user_input):\n",
    "    if user_input in user_final_rating.index:\n",
    "        final = user_final_rating.loc[user_input].sort_values(ascending=False)[0:20]\n",
    "        df = data_fil[data_fil['name'].isin(list(final.index))][['name','reviews_text']]\n",
    "        ls = []\n",
    "        for sentence in df['reviews_text']:\n",
    "            ls.append(clean_data(sentence))\n",
    "        df['clean_review']=ls    \n",
    "        df['sentiment_predicted']=rf.predict(vector.transform(df['clean_review']).toarray())\n",
    "        df_5=df.groupby('name').mean('sentiment_predicted').sort_values('sentiment_predicted',ascending=False)[0:5]\n",
    "        return ' ; '.join(list(df_5.index))\n",
    "    else:\n",
    "        return 'Not a user, enter a valid username'"
   ]
  },
  {
   "cell_type": "code",
   "execution_count": 9,
   "id": "97cbe290",
   "metadata": {},
   "outputs": [
    {
     "name": "stderr",
     "output_type": "stream",
     "text": [
      "/Users/ravichandra/opt/anaconda3/lib/python3.9/site-packages/sklearn/base.py:450: UserWarning: X does not have valid feature names, but RandomForestClassifier was fitted with feature names\n",
      "  warnings.warn(\n"
     ]
    },
    {
     "data": {
      "text/plain": [
       "\"My Big Fat Greek Wedding 2 (blu-Ray + Dvd + Digital) ; Stargate (ws) (ultimate Edition) (director's Cut) (dvdvideo) ; Red (special Edition) (dvdvideo) ; Avery174 Ready Index Contemporary Table Of Contents Divider, 1-8, Multi, Letter ; Clorox Disinfecting Bathroom Cleaner\""
      ]
     },
     "execution_count": 9,
     "metadata": {},
     "output_type": "execute_result"
    }
   ],
   "source": [
    "getrecommendationsbyuser('adam')"
   ]
  },
  {
   "cell_type": "code",
   "execution_count": 10,
   "id": "f1a64ab6",
   "metadata": {},
   "outputs": [
    {
     "data": {
      "text/plain": [
       "name\n",
       "Godzilla 3d Includes Digital Copy Ultraviolet 3d/2d Blu-Ray/dvd                    8.018846\n",
       "Mike Dave Need Wedding Dates (dvd + Digital)                                       4.834717\n",
       "My Big Fat Greek Wedding 2 (blu-Ray + Dvd + Digital)                               2.383353\n",
       "Windex Original Glass Cleaner Refill 67.6oz (2 Liter)                              1.895216\n",
       "Planes: Fire Rescue (2 Discs) (includes Digital Copy) (blu-Ray/dvd)                1.879926\n",
       "Pendaflex174 Divide It Up File Folder, Multi Section, Letter, Assorted, 12/pack    1.597940\n",
       "Hormel Chili, No Beans                                                             1.422715\n",
       "Clear Scalp & Hair Therapy Total Care Nourishing Shampoo                           1.118822\n",
       "Nexxus Exxtra Gel Style Creation Sculptor                                          1.045635\n",
       "Dark Shadows (includes Digital Copy) (ultraviolet) (dvdvideo)                      1.043614\n",
       "The Resident Evil Collection 5 Discs (blu-Ray)                                     0.845441\n",
       "Aussie Aussome Volume Shampoo, 13.5 Oz                                             0.804972\n",
       "L'or233al Paris Elvive Extraordinary Clay Rebalancing Conditioner - 12.6 Fl Oz     0.790569\n",
       "Vaseline Intensive Care Lip Therapy Cocoa Butter                                   0.714634\n",
       "Olay Regenerist Deep Hydration Regenerating Cream                                  0.632456\n",
       "There's Something About Mary (dvd)                                                 0.626092\n",
       "Boraam Sonoma Kitchen Cart With Wire Brush Gray - Maaya Home                       0.529213\n",
       "Burt's Bees Lip Shimmer, Raisin                                                    0.523262\n",
       "Stargate (ws) (ultimate Edition) (director's Cut) (dvdvideo)                       0.495265\n",
       "Ben & Jerry's Coffee, Coffee Buzzbuzzbuzz! Ice Cream, Pint                         0.474342\n",
       "Name: alexis, dtype: float64"
      ]
     },
     "execution_count": 10,
     "metadata": {},
     "output_type": "execute_result"
    }
   ],
   "source": [
    "user_final_rating.loc['alexis'].sort_values(ascending=False)[0:20]"
   ]
  },
  {
   "cell_type": "code",
   "execution_count": null,
   "id": "224f070a",
   "metadata": {},
   "outputs": [],
   "source": []
  }
 ],
 "metadata": {
  "kernelspec": {
   "display_name": "Python 3 (ipykernel)",
   "language": "python",
   "name": "python3"
  },
  "language_info": {
   "codemirror_mode": {
    "name": "ipython",
    "version": 3
   },
   "file_extension": ".py",
   "mimetype": "text/x-python",
   "name": "python",
   "nbconvert_exporter": "python",
   "pygments_lexer": "ipython3",
   "version": "3.9.12"
  }
 },
 "nbformat": 4,
 "nbformat_minor": 5
}
